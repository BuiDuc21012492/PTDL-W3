{
  "cells": [
    {
      "cell_type": "markdown",
      "metadata": {
        "pycharm": {
          "name": "#%% md\n"
        },
        "id": "cHhHmX7ESrvL"
      },
      "source": [
        "# US - Baby Names"
      ]
    },
    {
      "cell_type": "markdown",
      "metadata": {
        "pycharm": {
          "name": "#%% md\n"
        },
        "id": "FbnlW5wdSrvO"
      },
      "source": [
        "### Introduction:\n",
        "\n",
        "We are going to use a subset of [US Baby Names](https://www.kaggle.com/kaggle/us-baby-names) from Kaggle.  \n",
        "In the file it will be names from 2004 until 2014\n",
        "\n",
        "\n",
        "### Step 1. Import the necessary libraries"
      ]
    },
    {
      "cell_type": "code",
      "execution_count": 1,
      "metadata": {
        "pycharm": {
          "name": "#%%\n"
        },
        "id": "_8YXI7ViSrvQ"
      },
      "outputs": [],
      "source": [
        "import pandas as pd"
      ]
    },
    {
      "cell_type": "markdown",
      "metadata": {
        "pycharm": {
          "name": "#%% md\n"
        },
        "id": "ERZU_vQgSrvR"
      },
      "source": [
        "### Step 2. Import the dataset from this [address](https://raw.githubusercontent.com/thieu1995/csv-files/main/data/pandas/US_Baby_Names_right.csv)."
      ]
    },
    {
      "cell_type": "markdown",
      "metadata": {
        "pycharm": {
          "name": "#%% md\n"
        },
        "id": "0UCUX1yXSrvR"
      },
      "source": [
        "### Step 3. Assign it to a variable called baby_names."
      ]
    },
    {
      "cell_type": "code",
      "execution_count": 19,
      "metadata": {
        "pycharm": {
          "name": "#%%\n"
        },
        "id": "thmRzoD1SrvS"
      },
      "outputs": [],
      "source": [
        "baby_names = pd.read_csv('https://raw.githubusercontent.com/thieu1995/csv-files/main/data/pandas/US_Baby_Names_right.csv')"
      ]
    },
    {
      "cell_type": "markdown",
      "metadata": {
        "pycharm": {
          "name": "#%% md\n"
        },
        "id": "Myj-YH1-SrvS"
      },
      "source": [
        "### Step 4. See the first 10 entries"
      ]
    },
    {
      "cell_type": "code",
      "execution_count": 20,
      "metadata": {
        "pycharm": {
          "name": "#%%\n"
        },
        "id": "msVKjHZVSrvT",
        "outputId": "bda7b6b8-ff6a-4852-e124-82287e9cc5ad",
        "colab": {
          "base_uri": "https://localhost:8080/"
        }
      },
      "outputs": [
        {
          "output_type": "stream",
          "name": "stdout",
          "text": [
            "   Unnamed: 0     Id      Name  Year Gender State  Count\n",
            "0       11349  11350      Emma  2004      F    AK     62\n",
            "1       11350  11351   Madison  2004      F    AK     48\n",
            "2       11351  11352    Hannah  2004      F    AK     46\n",
            "3       11352  11353     Grace  2004      F    AK     44\n",
            "4       11353  11354     Emily  2004      F    AK     41\n",
            "5       11354  11355   Abigail  2004      F    AK     37\n",
            "6       11355  11356    Olivia  2004      F    AK     33\n",
            "7       11356  11357  Isabella  2004      F    AK     30\n",
            "8       11357  11358    Alyssa  2004      F    AK     29\n",
            "9       11358  11359    Sophia  2004      F    AK     28\n"
          ]
        }
      ],
      "source": [
        "print(baby_names.head(10))"
      ]
    },
    {
      "cell_type": "markdown",
      "metadata": {
        "pycharm": {
          "name": "#%% md\n"
        },
        "id": "xlPy5xSDSrvT"
      },
      "source": [
        "### Step 5. Delete the column 'Unnamed: 0' and 'Id'"
      ]
    },
    {
      "cell_type": "markdown",
      "source": [],
      "metadata": {
        "id": "m4bY7XXDUDXv"
      }
    },
    {
      "cell_type": "code",
      "execution_count": 21,
      "metadata": {
        "pycharm": {
          "name": "#%%\n"
        },
        "id": "1fmW-sT8SrvU"
      },
      "outputs": [],
      "source": [
        "baby_names = baby_names.drop(columns=['Unnamed: 0', 'Id'])"
      ]
    },
    {
      "cell_type": "code",
      "source": [
        "print(baby_names.head(10))"
      ],
      "metadata": {
        "id": "SUM6o8T3T-2k",
        "outputId": "0fb9fffb-26b0-4a76-96b0-f3bd94adb827",
        "colab": {
          "base_uri": "https://localhost:8080/"
        }
      },
      "execution_count": 22,
      "outputs": [
        {
          "output_type": "stream",
          "name": "stdout",
          "text": [
            "       Name  Year Gender State  Count\n",
            "0      Emma  2004      F    AK     62\n",
            "1   Madison  2004      F    AK     48\n",
            "2    Hannah  2004      F    AK     46\n",
            "3     Grace  2004      F    AK     44\n",
            "4     Emily  2004      F    AK     41\n",
            "5   Abigail  2004      F    AK     37\n",
            "6    Olivia  2004      F    AK     33\n",
            "7  Isabella  2004      F    AK     30\n",
            "8    Alyssa  2004      F    AK     29\n",
            "9    Sophia  2004      F    AK     28\n"
          ]
        }
      ]
    },
    {
      "cell_type": "markdown",
      "metadata": {
        "pycharm": {
          "name": "#%% md\n"
        },
        "id": "8b7RgUWBSrvU"
      },
      "source": [
        "### Step 6. Is there more male or female names in the dataset?"
      ]
    },
    {
      "cell_type": "code",
      "execution_count": 45,
      "metadata": {
        "pycharm": {
          "name": "#%%\n"
        },
        "id": "HTqRoreBSrvV",
        "outputId": "1c4af9ca-ab0b-412e-da21-f8aa2e0ba081",
        "colab": {
          "base_uri": "https://localhost:8080/",
          "height": 178
        }
      },
      "outputs": [
        {
          "output_type": "execute_result",
          "data": {
            "text/plain": [
              "Gender\n",
              "F    558846\n",
              "M    457549\n",
              "Name: count, dtype: int64"
            ],
            "text/html": [
              "<div>\n",
              "<style scoped>\n",
              "    .dataframe tbody tr th:only-of-type {\n",
              "        vertical-align: middle;\n",
              "    }\n",
              "\n",
              "    .dataframe tbody tr th {\n",
              "        vertical-align: top;\n",
              "    }\n",
              "\n",
              "    .dataframe thead th {\n",
              "        text-align: right;\n",
              "    }\n",
              "</style>\n",
              "<table border=\"1\" class=\"dataframe\">\n",
              "  <thead>\n",
              "    <tr style=\"text-align: right;\">\n",
              "      <th></th>\n",
              "      <th>count</th>\n",
              "    </tr>\n",
              "    <tr>\n",
              "      <th>Gender</th>\n",
              "      <th></th>\n",
              "    </tr>\n",
              "  </thead>\n",
              "  <tbody>\n",
              "    <tr>\n",
              "      <th>F</th>\n",
              "      <td>558846</td>\n",
              "    </tr>\n",
              "    <tr>\n",
              "      <th>M</th>\n",
              "      <td>457549</td>\n",
              "    </tr>\n",
              "  </tbody>\n",
              "</table>\n",
              "</div><br><label><b>dtype:</b> int64</label>"
            ]
          },
          "metadata": {},
          "execution_count": 45
        }
      ],
      "source": [
        "baby_names.Gender.value_counts()"
      ]
    },
    {
      "cell_type": "markdown",
      "metadata": {
        "pycharm": {
          "name": "#%% md\n"
        },
        "id": "ccEhVGHrSrvV"
      },
      "source": [
        "### Step 7. Group the dataset by name and assign to names"
      ]
    },
    {
      "cell_type": "code",
      "execution_count": 27,
      "metadata": {
        "pycharm": {
          "name": "#%%\n"
        },
        "id": "mj7lZromSrvV",
        "outputId": "21e4c82b-d27d-4435-e16d-bec89390670e",
        "colab": {
          "base_uri": "https://localhost:8080/"
        }
      },
      "outputs": [
        {
          "output_type": "stream",
          "name": "stdout",
          "text": [
            "            Name  Year Gender State  Count\n",
            "0           Emma  2004      F    AK     62\n",
            "1        Madison  2004      F    AK     48\n",
            "2         Hannah  2004      F    AK     46\n",
            "3          Grace  2004      F    AK     44\n",
            "4          Emily  2004      F    AK     41\n",
            "...          ...   ...    ...   ...    ...\n",
            "1004923  Gryffin  2014      M    WI      5\n",
            "1004950     Kroy  2014      M    WI      5\n",
            "1004973     Owyn  2014      M    WI      5\n",
            "1005707   Haylea  2005      F    WV      5\n",
            "1012216  Coalton  2012      M    WV      7\n",
            "\n",
            "[65502 rows x 5 columns]\n"
          ]
        }
      ],
      "source": [
        "names = baby_names.groupby('Name')\n",
        "print(names.head())"
      ]
    },
    {
      "cell_type": "markdown",
      "metadata": {
        "pycharm": {
          "name": "#%% md\n"
        },
        "id": "1_yMl7qCSrvV"
      },
      "source": [
        "### Step 8. How many different names exist in the dataset?"
      ]
    },
    {
      "cell_type": "code",
      "execution_count": 47,
      "metadata": {
        "pycharm": {
          "name": "#%%\n"
        },
        "id": "Gx6aENMsSrvW",
        "outputId": "f6c5452e-6d41-4957-f400-d7e2eff61650",
        "colab": {
          "base_uri": "https://localhost:8080/"
        }
      },
      "outputs": [
        {
          "output_type": "stream",
          "name": "stdout",
          "text": [
            "17632\n"
          ]
        }
      ],
      "source": [
        "print(baby_names['Name'].nunique())"
      ]
    },
    {
      "cell_type": "markdown",
      "metadata": {
        "pycharm": {
          "name": "#%% md\n"
        },
        "id": "uKtUV8K5SrvW"
      },
      "source": [
        "### Step 9. What is the name with most occurrences?"
      ]
    },
    {
      "cell_type": "code",
      "execution_count": 48,
      "metadata": {
        "pycharm": {
          "name": "#%%\n"
        },
        "id": "DDbqx04ZSrvX",
        "outputId": "3b32eb6c-4027-49d4-f3cb-bf63967bbca8",
        "colab": {
          "base_uri": "https://localhost:8080/"
        }
      },
      "outputs": [
        {
          "output_type": "stream",
          "name": "stdout",
          "text": [
            "          Name  Year Gender State  Count\n",
            "107416  Daniel  2004      M    CA   4167\n"
          ]
        }
      ],
      "source": [
        "most_occurrences = baby_names.sort_values(by='Count', ascending=False).head(1)\n",
        "print(most_occurrences)"
      ]
    },
    {
      "cell_type": "markdown",
      "metadata": {
        "pycharm": {
          "name": "#%% md\n"
        },
        "id": "jE6xajyESrvX"
      },
      "source": [
        "### Step 10. How many different names have the least occurrences?"
      ]
    },
    {
      "cell_type": "code",
      "execution_count": 37,
      "metadata": {
        "pycharm": {
          "name": "#%%\n"
        },
        "id": "OtDq_9InSrvX",
        "outputId": "059c1b17-7300-4306-fc04-9252a3bcc1dd",
        "colab": {
          "base_uri": "https://localhost:8080/"
        }
      },
      "outputs": [
        {
          "output_type": "stream",
          "name": "stdout",
          "text": [
            "3682\n"
          ]
        }
      ],
      "source": [
        "names = baby_names['Name'].value_counts()\n",
        "least_occurrences = names[names == names.min()].count()\n",
        "print(least_occurrences)"
      ]
    },
    {
      "cell_type": "markdown",
      "metadata": {
        "pycharm": {
          "name": "#%% md\n"
        },
        "id": "-4YH_BK9SrvY"
      },
      "source": [
        "### Step 11. What is the median name occurrence?"
      ]
    },
    {
      "cell_type": "code",
      "execution_count": 43,
      "metadata": {
        "pycharm": {
          "name": "#%%\n"
        },
        "id": "_HOrZcigSrvY",
        "outputId": "73fbf27a-2ebe-4763-d257-e3b239d2e9c1",
        "colab": {
          "base_uri": "https://localhost:8080/"
        }
      },
      "outputs": [
        {
          "output_type": "stream",
          "name": "stdout",
          "text": [
            "8.0\n"
          ]
        }
      ],
      "source": [
        "median_name = baby_names['Name'].value_counts().median()\n",
        "print(median_name)"
      ]
    },
    {
      "cell_type": "markdown",
      "metadata": {
        "pycharm": {
          "name": "#%% md\n"
        },
        "id": "wZntEiRsSrvY"
      },
      "source": [
        "### Step 12. What is the standard deviation of names?"
      ]
    },
    {
      "cell_type": "code",
      "execution_count": 50,
      "metadata": {
        "pycharm": {
          "name": "#%%\n"
        },
        "id": "wXPTJfoMSrvY",
        "outputId": "dbd6e243-d91f-43c9-8958-6e24792448b4",
        "colab": {
          "base_uri": "https://localhost:8080/"
        }
      },
      "outputs": [
        {
          "output_type": "stream",
          "name": "stdout",
          "text": [
            "122.02996350814088\n"
          ]
        }
      ],
      "source": [
        "std_dev = baby_names['Name'].value_counts().std()\n",
        "print(std_dev)"
      ]
    },
    {
      "cell_type": "markdown",
      "metadata": {
        "pycharm": {
          "name": "#%% md\n"
        },
        "id": "ToV04E69SrvY"
      },
      "source": [
        "### Step 13. Get a summary with the mean, min, max, std and quartiles."
      ]
    },
    {
      "cell_type": "code",
      "execution_count": 44,
      "metadata": {
        "pycharm": {
          "name": "#%%\n"
        },
        "id": "leSJxAsKSrvZ",
        "outputId": "3da81549-7c38-4b6f-f14a-3cc97f0b65a9",
        "colab": {
          "base_uri": "https://localhost:8080/"
        }
      },
      "outputs": [
        {
          "output_type": "stream",
          "name": "stdout",
          "text": [
            "count    17632.000000\n",
            "mean        57.644907\n",
            "std        122.029964\n",
            "min          1.000000\n",
            "25%          2.000000\n",
            "50%          8.000000\n",
            "75%         39.000000\n",
            "max       1112.000000\n",
            "Name: count, dtype: float64\n"
          ]
        }
      ],
      "source": [
        "summary = names.describe()\n",
        "print(summary)"
      ]
    }
  ],
  "metadata": {
    "anaconda-cloud": {},
    "kernelspec": {
      "display_name": "Python [default]",
      "language": "python",
      "name": "python2"
    },
    "language_info": {
      "codemirror_mode": {
        "name": "ipython",
        "version": 2
      },
      "file_extension": ".py",
      "mimetype": "text/x-python",
      "name": "python",
      "nbconvert_exporter": "python",
      "pygments_lexer": "ipython2",
      "version": "2.7.11"
    },
    "colab": {
      "provenance": []
    }
  },
  "nbformat": 4,
  "nbformat_minor": 0
}