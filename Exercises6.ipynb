{
  "cells": [
    {
      "cell_type": "markdown",
      "metadata": {
        "pycharm": {
          "name": "#%% md\n"
        },
        "id": "FFv7laBWoB08"
      },
      "source": [
        "# MPG Cars"
      ]
    },
    {
      "cell_type": "markdown",
      "metadata": {
        "pycharm": {
          "name": "#%% md\n"
        },
        "id": "XcX116LxoB0-"
      },
      "source": [
        "### Introduction:\n",
        "\n",
        "The following exercise utilizes data from [UC Irvine Machine Learning Repository](https://archive.ics.uci.edu/ml/datasets/Auto+MPG)\n",
        "\n",
        "### Step 1. Import the necessary libraries"
      ]
    },
    {
      "cell_type": "code",
      "execution_count": 1,
      "metadata": {
        "pycharm": {
          "name": "#%%\n"
        },
        "id": "uSIk-8duoB0_"
      },
      "outputs": [],
      "source": [
        "import pandas as pd\n",
        "import numpy as np"
      ]
    },
    {
      "cell_type": "markdown",
      "metadata": {
        "pycharm": {
          "name": "#%% md\n"
        },
        "id": "BSuhnFXioB1A"
      },
      "source": [
        "### Step 2. Import the first dataset [cars1](https://raw.githubusercontent.com/thieu1995/csv-files/main/data/pandas/cars1.csv) and [cars2](https://raw.githubusercontent.com/thieu1995/csv-files/main/data/pandas/cars2.csv)."
      ]
    },
    {
      "cell_type": "code",
      "execution_count": 4,
      "outputs": [],
      "source": [
        "url1 = 'https://raw.githubusercontent.com/thieu1995/csv-files/main/data/pandas/cars1.csv'\n",
        "url2 = 'https://raw.githubusercontent.com/thieu1995/csv-files/main/data/pandas/cars2.csv'\n",
        "cars1 = pd.read_csv(url1)\n",
        "cars2 = pd.read_csv(url2)"
      ],
      "metadata": {
        "pycharm": {
          "name": "#%%\n"
        },
        "id": "Vnzy1ko5oB1B"
      }
    },
    {
      "cell_type": "markdown",
      "metadata": {
        "pycharm": {
          "name": "#%% md\n"
        },
        "id": "k8tKngWWoB1B"
      },
      "source": [
        "   ### Step 3. Assign each to a variable called cars1 and cars2"
      ]
    },
    {
      "cell_type": "code",
      "execution_count": 6,
      "metadata": {
        "pycharm": {
          "name": "#%%\n"
        },
        "id": "Cas--3_QoB1B",
        "outputId": "316fe829-1fe6-4f86-85bc-8cc61fa6c021",
        "colab": {
          "base_uri": "https://localhost:8080/"
        }
      },
      "outputs": [
        {
          "output_type": "stream",
          "name": "stdout",
          "text": [
            "    mpg  cylinders  displacement horsepower  weight  acceleration  model  \\\n",
            "0  18.0          8           307        130    3504          12.0     70   \n",
            "1  15.0          8           350        165    3693          11.5     70   \n",
            "2  18.0          8           318        150    3436          11.0     70   \n",
            "3  16.0          8           304        150    3433          12.0     70   \n",
            "4  17.0          8           302        140    3449          10.5     70   \n",
            "\n",
            "   origin                        car  Unnamed: 9  Unnamed: 10  Unnamed: 11  \\\n",
            "0       1  chevrolet chevelle malibu         NaN          NaN          NaN   \n",
            "1       1          buick skylark 320         NaN          NaN          NaN   \n",
            "2       1         plymouth satellite         NaN          NaN          NaN   \n",
            "3       1              amc rebel sst         NaN          NaN          NaN   \n",
            "4       1                ford torino         NaN          NaN          NaN   \n",
            "\n",
            "   Unnamed: 12  Unnamed: 13  \n",
            "0          NaN          NaN  \n",
            "1          NaN          NaN  \n",
            "2          NaN          NaN  \n",
            "3          NaN          NaN  \n",
            "4          NaN          NaN  \n",
            "    mpg  cylinders  displacement horsepower  weight  acceleration  model  \\\n",
            "0  33.0          4            91         53    1795          17.4     76   \n",
            "1  20.0          6           225        100    3651          17.7     76   \n",
            "2  18.0          6           250         78    3574          21.0     76   \n",
            "3  18.5          6           250        110    3645          16.2     76   \n",
            "4  17.5          6           258         95    3193          17.8     76   \n",
            "\n",
            "   origin                 car  \n",
            "0       3         honda civic  \n",
            "1       1      dodge aspen se  \n",
            "2       1   ford granada ghia  \n",
            "3       1  pontiac ventura sj  \n",
            "4       1       amc pacer d/l  \n"
          ]
        }
      ],
      "source": [
        "print(cars1.head())\n",
        "print(cars2.head())"
      ]
    },
    {
      "cell_type": "markdown",
      "metadata": {
        "pycharm": {
          "name": "#%% md\n"
        },
        "id": "TCV2aKWboB1B"
      },
      "source": [
        "### Step 4. Oops, it seems our first dataset has some unnamed blank columns, fix cars1"
      ]
    },
    {
      "cell_type": "code",
      "execution_count": 7,
      "metadata": {
        "pycharm": {
          "name": "#%%\n"
        },
        "id": "WEKHhlxzoB1C",
        "outputId": "9c520f59-0957-49e7-d0a5-39901355dd54",
        "colab": {
          "base_uri": "https://localhost:8080/"
        }
      },
      "outputs": [
        {
          "output_type": "stream",
          "name": "stdout",
          "text": [
            "    mpg  cylinders  displacement horsepower  weight  acceleration  model  \\\n",
            "0  18.0          8           307        130    3504          12.0     70   \n",
            "1  15.0          8           350        165    3693          11.5     70   \n",
            "2  18.0          8           318        150    3436          11.0     70   \n",
            "3  16.0          8           304        150    3433          12.0     70   \n",
            "4  17.0          8           302        140    3449          10.5     70   \n",
            "\n",
            "   origin                        car  \n",
            "0       1  chevrolet chevelle malibu  \n",
            "1       1          buick skylark 320  \n",
            "2       1         plymouth satellite  \n",
            "3       1              amc rebel sst  \n",
            "4       1                ford torino  \n"
          ]
        }
      ],
      "source": [
        "cars1 = cars1.loc[:, \"mpg\":\"car\"]\n",
        "print(cars1.head())"
      ]
    },
    {
      "cell_type": "markdown",
      "metadata": {
        "pycharm": {
          "name": "#%% md\n"
        },
        "id": "hy2i9n1ooB1C"
      },
      "source": [
        "### Step 5. What is the number of observations in each dataset?"
      ]
    },
    {
      "cell_type": "code",
      "execution_count": 9,
      "metadata": {
        "pycharm": {
          "name": "#%%\n"
        },
        "id": "mYDqEIjcoB1C",
        "outputId": "3eb6f44d-88a4-4874-ebc4-2b319ff69047",
        "colab": {
          "base_uri": "https://localhost:8080/"
        }
      },
      "outputs": [
        {
          "output_type": "stream",
          "name": "stdout",
          "text": [
            "(198, 9)\n",
            "(200, 9)\n"
          ]
        }
      ],
      "source": [
        "print(cars1.shape)\n",
        "print(cars2.shape)"
      ]
    },
    {
      "cell_type": "markdown",
      "metadata": {
        "pycharm": {
          "name": "#%% md\n"
        },
        "id": "jwmP_t0coB1D"
      },
      "source": [
        "### Step 6. Join cars1 and cars2 into a single DataFrame called cars"
      ]
    },
    {
      "cell_type": "code",
      "execution_count": 11,
      "metadata": {
        "pycharm": {
          "name": "#%%\n"
        },
        "id": "3ztQs7L_oB1D",
        "outputId": "04d51d70-b343-4d95-91d5-77e6df665d61",
        "colab": {
          "base_uri": "https://localhost:8080/"
        }
      },
      "outputs": [
        {
          "output_type": "stream",
          "name": "stdout",
          "text": [
            "(398, 9)\n",
            "    mpg  cylinders  displacement horsepower  weight  acceleration  model  \\\n",
            "0  18.0          8           307        130    3504          12.0     70   \n",
            "1  15.0          8           350        165    3693          11.5     70   \n",
            "2  18.0          8           318        150    3436          11.0     70   \n",
            "3  16.0          8           304        150    3433          12.0     70   \n",
            "4  17.0          8           302        140    3449          10.5     70   \n",
            "\n",
            "   origin                        car  \n",
            "0       1  chevrolet chevelle malibu  \n",
            "1       1          buick skylark 320  \n",
            "2       1         plymouth satellite  \n",
            "3       1              amc rebel sst  \n",
            "4       1                ford torino  \n",
            "      mpg  cylinders  displacement horsepower  weight  acceleration  model  \\\n",
            "393  27.0          4           140         86    2790          15.6     82   \n",
            "394  44.0          4            97         52    2130          24.6     82   \n",
            "395  32.0          4           135         84    2295          11.6     82   \n",
            "396  28.0          4           120         79    2625          18.6     82   \n",
            "397  31.0          4           119         82    2720          19.4     82   \n",
            "\n",
            "     origin              car  \n",
            "393       1  ford mustang gl  \n",
            "394       2        vw pickup  \n",
            "395       1    dodge rampage  \n",
            "396       1      ford ranger  \n",
            "397       1       chevy s-10  \n"
          ]
        }
      ],
      "source": [
        "cars = pd.concat([cars1, cars2], ignore_index=True)\n",
        "print(cars.shape)\n",
        "print(cars.head())\n",
        "print(cars.tail())"
      ]
    },
    {
      "cell_type": "markdown",
      "metadata": {
        "pycharm": {
          "name": "#%% md\n"
        },
        "id": "d6ciORZ8oB1D"
      },
      "source": [
        "### Step 7. Oops, there is a column missing, called owners. Create a random number Series from 15,000 to 73,000."
      ]
    },
    {
      "cell_type": "code",
      "execution_count": 13,
      "metadata": {
        "pycharm": {
          "name": "#%%\n"
        },
        "id": "THzbNu_5oB1D"
      },
      "outputs": [],
      "source": [
        "owners = pd.Series(np.random.randint(15000, 73001, size=cars.shape[0], dtype='l'))"
      ]
    },
    {
      "cell_type": "markdown",
      "metadata": {
        "pycharm": {
          "name": "#%% md\n"
        },
        "id": "0ZzC_ZG7oB1E"
      },
      "source": [
        "### Step 8. Add the column owners to cars"
      ]
    },
    {
      "cell_type": "code",
      "execution_count": 14,
      "metadata": {
        "pycharm": {
          "name": "#%%\n"
        },
        "id": "dzZSVCw4oB1E",
        "outputId": "2571fcb1-303a-4d08-e67c-99b2d5701df3",
        "colab": {
          "base_uri": "https://localhost:8080/"
        }
      },
      "outputs": [
        {
          "output_type": "stream",
          "name": "stdout",
          "text": [
            "    mpg  cylinders  displacement horsepower  weight  acceleration  model  \\\n",
            "0  18.0          8           307        130    3504          12.0     70   \n",
            "1  15.0          8           350        165    3693          11.5     70   \n",
            "2  18.0          8           318        150    3436          11.0     70   \n",
            "3  16.0          8           304        150    3433          12.0     70   \n",
            "4  17.0          8           302        140    3449          10.5     70   \n",
            "\n",
            "   origin                        car  owners  \n",
            "0       1  chevrolet chevelle malibu   20973  \n",
            "1       1          buick skylark 320   49116  \n",
            "2       1         plymouth satellite   24547  \n",
            "3       1              amc rebel sst   58422  \n",
            "4       1                ford torino   16341  \n"
          ]
        }
      ],
      "source": [
        "cars['owners'] = owners\n",
        "print(cars.head())"
      ]
    }
  ],
  "metadata": {
    "anaconda-cloud": {},
    "kernelspec": {
      "display_name": "Python [default]",
      "language": "python",
      "name": "python2"
    },
    "language_info": {
      "codemirror_mode": {
        "name": "ipython",
        "version": 2
      },
      "file_extension": ".py",
      "mimetype": "text/x-python",
      "name": "python",
      "nbconvert_exporter": "python",
      "pygments_lexer": "ipython2",
      "version": "2.7.12"
    },
    "colab": {
      "provenance": []
    }
  },
  "nbformat": 4,
  "nbformat_minor": 0
}